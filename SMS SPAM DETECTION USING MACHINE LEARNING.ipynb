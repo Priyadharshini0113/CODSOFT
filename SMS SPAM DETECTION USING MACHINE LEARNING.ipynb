{
 "cells": [
  {
   "cell_type": "markdown",
   "id": "524b7d94",
   "metadata": {},
   "source": [
    "# SMS SPAM DETECTION\n"
   ]
  },
  {
   "cell_type": "markdown",
   "id": "1b09cc19",
   "metadata": {},
   "source": [
    "IMPORTING LIBRARIES"
   ]
  },
  {
   "cell_type": "code",
   "execution_count": 1,
   "id": "0cf4edc2",
   "metadata": {},
   "outputs": [],
   "source": [
    "import numpy as np\n",
    "import pandas as pd\n",
    "from sklearn.preprocessing import LabelEncoder\n",
    "import matplotlib.pyplot as plt\n",
    "from sklearn.model_selection import train_test_split\n",
    "from sklearn.feature_extraction.text import TfidfVectorizer\n",
    "from sklearn.linear_model import LogisticRegression\n",
    "from sklearn.metrics import accuracy_score, confusion_matrix\n"
   ]
  },
  {
   "cell_type": "markdown",
   "id": "0b056373",
   "metadata": {},
   "source": [
    "READING CSV FILE"
   ]
  },
  {
   "cell_type": "code",
   "execution_count": 2,
   "id": "12e335d7",
   "metadata": {},
   "outputs": [],
   "source": [
    "df = pd.read_csv('spam.csv', encoding='latin1')\n"
   ]
  },
  {
   "cell_type": "markdown",
   "id": "8d7dade9",
   "metadata": {},
   "source": [
    "READING ROWS"
   ]
  },
  {
   "cell_type": "code",
   "execution_count": 3,
   "id": "90f5cbb3",
   "metadata": {},
   "outputs": [
    {
     "data": {
      "text/html": [
       "<div>\n",
       "<style scoped>\n",
       "    .dataframe tbody tr th:only-of-type {\n",
       "        vertical-align: middle;\n",
       "    }\n",
       "\n",
       "    .dataframe tbody tr th {\n",
       "        vertical-align: top;\n",
       "    }\n",
       "\n",
       "    .dataframe thead th {\n",
       "        text-align: right;\n",
       "    }\n",
       "</style>\n",
       "<table border=\"1\" class=\"dataframe\">\n",
       "  <thead>\n",
       "    <tr style=\"text-align: right;\">\n",
       "      <th></th>\n",
       "      <th>v1</th>\n",
       "      <th>v2</th>\n",
       "      <th>Unnamed: 2</th>\n",
       "      <th>Unnamed: 3</th>\n",
       "      <th>Unnamed: 4</th>\n",
       "    </tr>\n",
       "  </thead>\n",
       "  <tbody>\n",
       "    <tr>\n",
       "      <th>0</th>\n",
       "      <td>ham</td>\n",
       "      <td>Go until jurong point, crazy.. Available only ...</td>\n",
       "      <td>NaN</td>\n",
       "      <td>NaN</td>\n",
       "      <td>NaN</td>\n",
       "    </tr>\n",
       "    <tr>\n",
       "      <th>1</th>\n",
       "      <td>ham</td>\n",
       "      <td>Ok lar... Joking wif u oni...</td>\n",
       "      <td>NaN</td>\n",
       "      <td>NaN</td>\n",
       "      <td>NaN</td>\n",
       "    </tr>\n",
       "    <tr>\n",
       "      <th>2</th>\n",
       "      <td>spam</td>\n",
       "      <td>Free entry in 2 a wkly comp to win FA Cup fina...</td>\n",
       "      <td>NaN</td>\n",
       "      <td>NaN</td>\n",
       "      <td>NaN</td>\n",
       "    </tr>\n",
       "    <tr>\n",
       "      <th>3</th>\n",
       "      <td>ham</td>\n",
       "      <td>U dun say so early hor... U c already then say...</td>\n",
       "      <td>NaN</td>\n",
       "      <td>NaN</td>\n",
       "      <td>NaN</td>\n",
       "    </tr>\n",
       "    <tr>\n",
       "      <th>4</th>\n",
       "      <td>ham</td>\n",
       "      <td>Nah I don't think he goes to usf, he lives aro...</td>\n",
       "      <td>NaN</td>\n",
       "      <td>NaN</td>\n",
       "      <td>NaN</td>\n",
       "    </tr>\n",
       "  </tbody>\n",
       "</table>\n",
       "</div>"
      ],
      "text/plain": [
       "     v1                                                 v2 Unnamed: 2  \\\n",
       "0   ham  Go until jurong point, crazy.. Available only ...        NaN   \n",
       "1   ham                      Ok lar... Joking wif u oni...        NaN   \n",
       "2  spam  Free entry in 2 a wkly comp to win FA Cup fina...        NaN   \n",
       "3   ham  U dun say so early hor... U c already then say...        NaN   \n",
       "4   ham  Nah I don't think he goes to usf, he lives aro...        NaN   \n",
       "\n",
       "  Unnamed: 3 Unnamed: 4  \n",
       "0        NaN        NaN  \n",
       "1        NaN        NaN  \n",
       "2        NaN        NaN  \n",
       "3        NaN        NaN  \n",
       "4        NaN        NaN  "
      ]
     },
     "execution_count": 3,
     "metadata": {},
     "output_type": "execute_result"
    }
   ],
   "source": [
    "df.head()"
   ]
  },
  {
   "cell_type": "code",
   "execution_count": 4,
   "id": "044f372f",
   "metadata": {},
   "outputs": [
    {
     "data": {
      "text/html": [
       "<div>\n",
       "<style scoped>\n",
       "    .dataframe tbody tr th:only-of-type {\n",
       "        vertical-align: middle;\n",
       "    }\n",
       "\n",
       "    .dataframe tbody tr th {\n",
       "        vertical-align: top;\n",
       "    }\n",
       "\n",
       "    .dataframe thead th {\n",
       "        text-align: right;\n",
       "    }\n",
       "</style>\n",
       "<table border=\"1\" class=\"dataframe\">\n",
       "  <thead>\n",
       "    <tr style=\"text-align: right;\">\n",
       "      <th></th>\n",
       "      <th>v1</th>\n",
       "      <th>v2</th>\n",
       "      <th>Unnamed: 2</th>\n",
       "      <th>Unnamed: 3</th>\n",
       "      <th>Unnamed: 4</th>\n",
       "    </tr>\n",
       "  </thead>\n",
       "  <tbody>\n",
       "    <tr>\n",
       "      <th>5567</th>\n",
       "      <td>spam</td>\n",
       "      <td>This is the 2nd time we have tried 2 contact u...</td>\n",
       "      <td>NaN</td>\n",
       "      <td>NaN</td>\n",
       "      <td>NaN</td>\n",
       "    </tr>\n",
       "    <tr>\n",
       "      <th>5568</th>\n",
       "      <td>ham</td>\n",
       "      <td>Will Ì_ b going to esplanade fr home?</td>\n",
       "      <td>NaN</td>\n",
       "      <td>NaN</td>\n",
       "      <td>NaN</td>\n",
       "    </tr>\n",
       "    <tr>\n",
       "      <th>5569</th>\n",
       "      <td>ham</td>\n",
       "      <td>Pity, * was in mood for that. So...any other s...</td>\n",
       "      <td>NaN</td>\n",
       "      <td>NaN</td>\n",
       "      <td>NaN</td>\n",
       "    </tr>\n",
       "    <tr>\n",
       "      <th>5570</th>\n",
       "      <td>ham</td>\n",
       "      <td>The guy did some bitching but I acted like i'd...</td>\n",
       "      <td>NaN</td>\n",
       "      <td>NaN</td>\n",
       "      <td>NaN</td>\n",
       "    </tr>\n",
       "    <tr>\n",
       "      <th>5571</th>\n",
       "      <td>ham</td>\n",
       "      <td>Rofl. Its true to its name</td>\n",
       "      <td>NaN</td>\n",
       "      <td>NaN</td>\n",
       "      <td>NaN</td>\n",
       "    </tr>\n",
       "  </tbody>\n",
       "</table>\n",
       "</div>"
      ],
      "text/plain": [
       "        v1                                                 v2 Unnamed: 2  \\\n",
       "5567  spam  This is the 2nd time we have tried 2 contact u...        NaN   \n",
       "5568   ham              Will Ì_ b going to esplanade fr home?        NaN   \n",
       "5569   ham  Pity, * was in mood for that. So...any other s...        NaN   \n",
       "5570   ham  The guy did some bitching but I acted like i'd...        NaN   \n",
       "5571   ham                         Rofl. Its true to its name        NaN   \n",
       "\n",
       "     Unnamed: 3 Unnamed: 4  \n",
       "5567        NaN        NaN  \n",
       "5568        NaN        NaN  \n",
       "5569        NaN        NaN  \n",
       "5570        NaN        NaN  \n",
       "5571        NaN        NaN  "
      ]
     },
     "execution_count": 4,
     "metadata": {},
     "output_type": "execute_result"
    }
   ],
   "source": [
    "df.tail()"
   ]
  },
  {
   "cell_type": "markdown",
   "id": "87ad877e",
   "metadata": {},
   "source": [
    "FINDING THE SHAPE "
   ]
  },
  {
   "cell_type": "code",
   "execution_count": 5,
   "id": "afb33e6f",
   "metadata": {},
   "outputs": [
    {
     "data": {
      "text/plain": [
       "(5572, 5)"
      ]
     },
     "execution_count": 5,
     "metadata": {},
     "output_type": "execute_result"
    }
   ],
   "source": [
    "df.shape"
   ]
  },
  {
   "cell_type": "markdown",
   "id": "cb7b226d",
   "metadata": {},
   "source": [
    "DROPPING THE IRRELEVANT COLUMNS"
   ]
  },
  {
   "cell_type": "code",
   "execution_count": 6,
   "id": "aa96c545",
   "metadata": {},
   "outputs": [],
   "source": [
    "df.drop(columns=['Unnamed: 2','Unnamed: 3','Unnamed: 4'],inplace=True)\n"
   ]
  },
  {
   "cell_type": "code",
   "execution_count": 7,
   "id": "49d71a28",
   "metadata": {},
   "outputs": [
    {
     "data": {
      "text/plain": [
       "Index(['v1', 'v2'], dtype='object')"
      ]
     },
     "execution_count": 7,
     "metadata": {},
     "output_type": "execute_result"
    }
   ],
   "source": [
    "df.columns"
   ]
  },
  {
   "cell_type": "markdown",
   "id": "cfbe0c9a",
   "metadata": {},
   "source": [
    "RENAMING THE COLUMNS"
   ]
  },
  {
   "cell_type": "code",
   "execution_count": 8,
   "id": "304b8e06",
   "metadata": {},
   "outputs": [],
   "source": [
    "df.rename(columns={'v1':'label','v2':'msg'},inplace=True)\n"
   ]
  },
  {
   "cell_type": "code",
   "execution_count": 9,
   "id": "74df7c73",
   "metadata": {},
   "outputs": [
    {
     "data": {
      "text/html": [
       "<div>\n",
       "<style scoped>\n",
       "    .dataframe tbody tr th:only-of-type {\n",
       "        vertical-align: middle;\n",
       "    }\n",
       "\n",
       "    .dataframe tbody tr th {\n",
       "        vertical-align: top;\n",
       "    }\n",
       "\n",
       "    .dataframe thead th {\n",
       "        text-align: right;\n",
       "    }\n",
       "</style>\n",
       "<table border=\"1\" class=\"dataframe\">\n",
       "  <thead>\n",
       "    <tr style=\"text-align: right;\">\n",
       "      <th></th>\n",
       "      <th>label</th>\n",
       "      <th>msg</th>\n",
       "    </tr>\n",
       "  </thead>\n",
       "  <tbody>\n",
       "    <tr>\n",
       "      <th>0</th>\n",
       "      <td>ham</td>\n",
       "      <td>Go until jurong point, crazy.. Available only ...</td>\n",
       "    </tr>\n",
       "    <tr>\n",
       "      <th>1</th>\n",
       "      <td>ham</td>\n",
       "      <td>Ok lar... Joking wif u oni...</td>\n",
       "    </tr>\n",
       "    <tr>\n",
       "      <th>2</th>\n",
       "      <td>spam</td>\n",
       "      <td>Free entry in 2 a wkly comp to win FA Cup fina...</td>\n",
       "    </tr>\n",
       "    <tr>\n",
       "      <th>3</th>\n",
       "      <td>ham</td>\n",
       "      <td>U dun say so early hor... U c already then say...</td>\n",
       "    </tr>\n",
       "    <tr>\n",
       "      <th>4</th>\n",
       "      <td>ham</td>\n",
       "      <td>Nah I don't think he goes to usf, he lives aro...</td>\n",
       "    </tr>\n",
       "  </tbody>\n",
       "</table>\n",
       "</div>"
      ],
      "text/plain": [
       "  label                                                msg\n",
       "0   ham  Go until jurong point, crazy.. Available only ...\n",
       "1   ham                      Ok lar... Joking wif u oni...\n",
       "2  spam  Free entry in 2 a wkly comp to win FA Cup fina...\n",
       "3   ham  U dun say so early hor... U c already then say...\n",
       "4   ham  Nah I don't think he goes to usf, he lives aro..."
      ]
     },
     "execution_count": 9,
     "metadata": {},
     "output_type": "execute_result"
    }
   ],
   "source": [
    "df.head()"
   ]
  },
  {
   "cell_type": "code",
   "execution_count": 10,
   "id": "3e271068",
   "metadata": {},
   "outputs": [
    {
     "data": {
      "text/html": [
       "<div>\n",
       "<style scoped>\n",
       "    .dataframe tbody tr th:only-of-type {\n",
       "        vertical-align: middle;\n",
       "    }\n",
       "\n",
       "    .dataframe tbody tr th {\n",
       "        vertical-align: top;\n",
       "    }\n",
       "\n",
       "    .dataframe thead th {\n",
       "        text-align: right;\n",
       "    }\n",
       "</style>\n",
       "<table border=\"1\" class=\"dataframe\">\n",
       "  <thead>\n",
       "    <tr style=\"text-align: right;\">\n",
       "      <th></th>\n",
       "      <th>label</th>\n",
       "      <th>msg</th>\n",
       "    </tr>\n",
       "  </thead>\n",
       "  <tbody>\n",
       "    <tr>\n",
       "      <th>0</th>\n",
       "      <td>0</td>\n",
       "      <td>Go until jurong point, crazy.. Available only ...</td>\n",
       "    </tr>\n",
       "    <tr>\n",
       "      <th>1</th>\n",
       "      <td>0</td>\n",
       "      <td>Ok lar... Joking wif u oni...</td>\n",
       "    </tr>\n",
       "    <tr>\n",
       "      <th>2</th>\n",
       "      <td>1</td>\n",
       "      <td>Free entry in 2 a wkly comp to win FA Cup fina...</td>\n",
       "    </tr>\n",
       "    <tr>\n",
       "      <th>3</th>\n",
       "      <td>0</td>\n",
       "      <td>U dun say so early hor... U c already then say...</td>\n",
       "    </tr>\n",
       "    <tr>\n",
       "      <th>4</th>\n",
       "      <td>0</td>\n",
       "      <td>Nah I don't think he goes to usf, he lives aro...</td>\n",
       "    </tr>\n",
       "  </tbody>\n",
       "</table>\n",
       "</div>"
      ],
      "text/plain": [
       "   label                                                msg\n",
       "0      0  Go until jurong point, crazy.. Available only ...\n",
       "1      0                      Ok lar... Joking wif u oni...\n",
       "2      1  Free entry in 2 a wkly comp to win FA Cup fina...\n",
       "3      0  U dun say so early hor... U c already then say...\n",
       "4      0  Nah I don't think he goes to usf, he lives aro..."
      ]
     },
     "execution_count": 10,
     "metadata": {},
     "output_type": "execute_result"
    }
   ],
   "source": [
    "encoder = LabelEncoder()   #conversion of categorical labels such as ham and spam to numerical format\n",
    "df['label'] = encoder.fit_transform(df['label'])\n",
    "df.head()"
   ]
  },
  {
   "cell_type": "markdown",
   "id": "61444a7e",
   "metadata": {},
   "source": [
    "CHECKING FOR NULL VALUES"
   ]
  },
  {
   "cell_type": "code",
   "execution_count": 11,
   "id": "0386e641",
   "metadata": {},
   "outputs": [
    {
     "data": {
      "text/html": [
       "<div>\n",
       "<style scoped>\n",
       "    .dataframe tbody tr th:only-of-type {\n",
       "        vertical-align: middle;\n",
       "    }\n",
       "\n",
       "    .dataframe tbody tr th {\n",
       "        vertical-align: top;\n",
       "    }\n",
       "\n",
       "    .dataframe thead th {\n",
       "        text-align: right;\n",
       "    }\n",
       "</style>\n",
       "<table border=\"1\" class=\"dataframe\">\n",
       "  <thead>\n",
       "    <tr style=\"text-align: right;\">\n",
       "      <th></th>\n",
       "      <th>label</th>\n",
       "      <th>msg</th>\n",
       "    </tr>\n",
       "  </thead>\n",
       "  <tbody>\n",
       "    <tr>\n",
       "      <th>0</th>\n",
       "      <td>False</td>\n",
       "      <td>False</td>\n",
       "    </tr>\n",
       "    <tr>\n",
       "      <th>1</th>\n",
       "      <td>False</td>\n",
       "      <td>False</td>\n",
       "    </tr>\n",
       "    <tr>\n",
       "      <th>2</th>\n",
       "      <td>False</td>\n",
       "      <td>False</td>\n",
       "    </tr>\n",
       "    <tr>\n",
       "      <th>3</th>\n",
       "      <td>False</td>\n",
       "      <td>False</td>\n",
       "    </tr>\n",
       "    <tr>\n",
       "      <th>4</th>\n",
       "      <td>False</td>\n",
       "      <td>False</td>\n",
       "    </tr>\n",
       "    <tr>\n",
       "      <th>...</th>\n",
       "      <td>...</td>\n",
       "      <td>...</td>\n",
       "    </tr>\n",
       "    <tr>\n",
       "      <th>5567</th>\n",
       "      <td>False</td>\n",
       "      <td>False</td>\n",
       "    </tr>\n",
       "    <tr>\n",
       "      <th>5568</th>\n",
       "      <td>False</td>\n",
       "      <td>False</td>\n",
       "    </tr>\n",
       "    <tr>\n",
       "      <th>5569</th>\n",
       "      <td>False</td>\n",
       "      <td>False</td>\n",
       "    </tr>\n",
       "    <tr>\n",
       "      <th>5570</th>\n",
       "      <td>False</td>\n",
       "      <td>False</td>\n",
       "    </tr>\n",
       "    <tr>\n",
       "      <th>5571</th>\n",
       "      <td>False</td>\n",
       "      <td>False</td>\n",
       "    </tr>\n",
       "  </tbody>\n",
       "</table>\n",
       "<p>5572 rows × 2 columns</p>\n",
       "</div>"
      ],
      "text/plain": [
       "      label    msg\n",
       "0     False  False\n",
       "1     False  False\n",
       "2     False  False\n",
       "3     False  False\n",
       "4     False  False\n",
       "...     ...    ...\n",
       "5567  False  False\n",
       "5568  False  False\n",
       "5569  False  False\n",
       "5570  False  False\n",
       "5571  False  False\n",
       "\n",
       "[5572 rows x 2 columns]"
      ]
     },
     "execution_count": 11,
     "metadata": {},
     "output_type": "execute_result"
    }
   ],
   "source": [
    "df.isnull()\n"
   ]
  },
  {
   "cell_type": "code",
   "execution_count": 12,
   "id": "28f71f18",
   "metadata": {},
   "outputs": [
    {
     "data": {
      "text/plain": [
       "label    0\n",
       "msg      0\n",
       "dtype: int64"
      ]
     },
     "execution_count": 12,
     "metadata": {},
     "output_type": "execute_result"
    }
   ],
   "source": [
    "df.isnull().sum()\n"
   ]
  },
  {
   "cell_type": "markdown",
   "id": "c1ca291e",
   "metadata": {},
   "source": [
    "CALCULATING THE DUPLICATING VALUES\n"
   ]
  },
  {
   "cell_type": "code",
   "execution_count": 13,
   "id": "fae0ba8a",
   "metadata": {},
   "outputs": [
    {
     "data": {
      "text/plain": [
       "403"
      ]
     },
     "execution_count": 13,
     "metadata": {},
     "output_type": "execute_result"
    }
   ],
   "source": [
    "df.duplicated().sum()\n"
   ]
  },
  {
   "cell_type": "code",
   "execution_count": 14,
   "id": "54ab5962",
   "metadata": {},
   "outputs": [],
   "source": [
    "df = df.drop_duplicates(keep='first')\n"
   ]
  },
  {
   "cell_type": "code",
   "execution_count": 15,
   "id": "df7deb73",
   "metadata": {},
   "outputs": [
    {
     "data": {
      "text/plain": [
       "0"
      ]
     },
     "execution_count": 15,
     "metadata": {},
     "output_type": "execute_result"
    }
   ],
   "source": [
    "df.duplicated().sum()\n"
   ]
  },
  {
   "cell_type": "code",
   "execution_count": 16,
   "id": "f00c4071",
   "metadata": {},
   "outputs": [
    {
     "data": {
      "text/plain": [
       "(5169, 2)"
      ]
     },
     "execution_count": 16,
     "metadata": {},
     "output_type": "execute_result"
    }
   ],
   "source": [
    "df.shape #shape after removing the duplicates"
   ]
  },
  {
   "cell_type": "code",
   "execution_count": 17,
   "id": "f1497a6a",
   "metadata": {},
   "outputs": [
    {
     "data": {
      "text/plain": [
       "0    4516\n",
       "1     653\n",
       "Name: label, dtype: int64"
      ]
     },
     "execution_count": 17,
     "metadata": {},
     "output_type": "execute_result"
    }
   ],
   "source": [
    "df['label'].value_counts()\n"
   ]
  },
  {
   "cell_type": "code",
   "execution_count": 18,
   "id": "ccbe0e8c",
   "metadata": {},
   "outputs": [
    {
     "data": {
      "image/png": "[encoded data removed]",
      "text/plain": [
       "<Figure size 432x288 with 1 Axes>"
      ]
     },
     "metadata": {},
     "output_type": "display_data"
    }
   ],
   "source": [
    "plt.pie(df['label'].value_counts(),autopct=\"%0.2f\")\n",
    "plt.title('AMOUNT OF SPAM AND LEGITIMATE REPRESENTATION')\n",
    "plt.legend(['Ham', 'Spam'])\n",
    "plt.show()\n"
   ]
  },
  {
   "cell_type": "markdown",
   "id": "80ae2bef",
   "metadata": {},
   "source": [
    "LABEL ENCODING"
   ]
  },
  {
   "cell_type": "code",
   "execution_count": 19,
   "id": "2e3b30ac",
   "metadata": {},
   "outputs": [],
   "source": [
    "X=df['msg']\n",
    "Y=df['label']\n"
   ]
  },
  {
   "cell_type": "code",
   "execution_count": 20,
   "id": "8fc2dd18",
   "metadata": {},
   "outputs": [
    {
     "name": "stdout",
     "output_type": "stream",
     "text": [
      "0       Go until jurong point, crazy.. Available only ...\n",
      "1                           Ok lar... Joking wif u oni...\n",
      "2       Free entry in 2 a wkly comp to win FA Cup fina...\n",
      "3       U dun say so early hor... U c already then say...\n",
      "4       Nah I don't think he goes to usf, he lives aro...\n",
      "                              ...                        \n",
      "5567    This is the 2nd time we have tried 2 contact u...\n",
      "5568                Will Ì_ b going to esplanade fr home?\n",
      "5569    Pity, * was in mood for that. So...any other s...\n",
      "5570    The guy did some bitching but I acted like i'd...\n",
      "5571                           Rofl. Its true to its name\n",
      "Name: msg, Length: 5169, dtype: object\n"
     ]
    }
   ],
   "source": [
    "print(X)\n"
   ]
  },
  {
   "cell_type": "code",
   "execution_count": 21,
   "id": "09c028cc",
   "metadata": {},
   "outputs": [
    {
     "name": "stdout",
     "output_type": "stream",
     "text": [
      "0       0\n",
      "1       0\n",
      "2       1\n",
      "3       0\n",
      "4       0\n",
      "       ..\n",
      "5567    1\n",
      "5568    0\n",
      "5569    0\n",
      "5570    0\n",
      "5571    0\n",
      "Name: label, Length: 5169, dtype: int32\n"
     ]
    }
   ],
   "source": [
    "print(Y)\n"
   ]
  },
  {
   "cell_type": "markdown",
   "id": "aff072ef",
   "metadata": {},
   "source": [
    "SPLITTING THE DATA INTO TRAINING DATA AND TEST DATA"
   ]
  },
  {
   "cell_type": "code",
   "execution_count": 22,
   "id": "2dcdd1c7",
   "metadata": {},
   "outputs": [],
   "source": [
    "X_train,X_test,Y_train,Y_test = train_test_split(X,Y,test_size=0.2,random_state=2)\n"
   ]
  },
  {
   "cell_type": "code",
   "execution_count": 23,
   "id": "f720f1c1",
   "metadata": {},
   "outputs": [
    {
     "data": {
      "text/plain": [
       "(5169,)"
      ]
     },
     "execution_count": 23,
     "metadata": {},
     "output_type": "execute_result"
    }
   ],
   "source": [
    "X.shape\n"
   ]
  },
  {
   "cell_type": "code",
   "execution_count": 24,
   "id": "78dcf2e5",
   "metadata": {},
   "outputs": [
    {
     "data": {
      "text/plain": [
       "(4135,)"
      ]
     },
     "execution_count": 24,
     "metadata": {},
     "output_type": "execute_result"
    }
   ],
   "source": [
    "X_train.shape\n"
   ]
  },
  {
   "cell_type": "code",
   "execution_count": 25,
   "id": "7c59f8f1",
   "metadata": {},
   "outputs": [
    {
     "data": {
      "text/plain": [
       "(4135,)"
      ]
     },
     "execution_count": 25,
     "metadata": {},
     "output_type": "execute_result"
    }
   ],
   "source": [
    "Y_train.shape\n"
   ]
  },
  {
   "cell_type": "code",
   "execution_count": 26,
   "id": "7aabe144",
   "metadata": {},
   "outputs": [
    {
     "data": {
      "text/plain": [
       "(1034,)"
      ]
     },
     "execution_count": 26,
     "metadata": {},
     "output_type": "execute_result"
    }
   ],
   "source": [
    "X_test.shape\n"
   ]
  },
  {
   "cell_type": "code",
   "execution_count": 27,
   "id": "4f08d8d9",
   "metadata": {},
   "outputs": [
    {
     "data": {
      "text/plain": [
       "(1034,)"
      ]
     },
     "execution_count": 27,
     "metadata": {},
     "output_type": "execute_result"
    }
   ],
   "source": [
    "Y_test.shape\n"
   ]
  },
  {
   "cell_type": "markdown",
   "id": "70295469",
   "metadata": {},
   "source": [
    "FEATURE EXTRACTION"
   ]
  },
  {
   "cell_type": "code",
   "execution_count": 28,
   "id": "6c457a6f",
   "metadata": {},
   "outputs": [],
   "source": [
    "vectorizer = TfidfVectorizer(min_df=1, stop_words='english', lowercase=True)\n",
    "X_train_features = vectorizer.fit_transform(X_train)\n",
    "X_test_features = vectorizer.transform(X_test)\n",
    "Y_train = Y_train.astype(int)\n",
    "Y_test = Y_test.astype(int)\n"
   ]
  },
  {
   "cell_type": "code",
   "execution_count": 29,
   "id": "52b3a8e2",
   "metadata": {},
   "outputs": [
    {
     "name": "stdout",
     "output_type": "stream",
     "text": [
      "  (0, 7054)\t0.36075839226747747\n",
      "  (0, 6583)\t0.30435292112105844\n",
      "  (0, 3404)\t0.6233869912877809\n",
      "  (0, 1352)\t0.6233869912877809\n",
      "  (1, 5426)\t0.7301484604418181\n",
      "  (1, 2725)\t0.6832885376723676\n",
      "  (2, 2488)\t0.4509976880080445\n",
      "  (2, 1441)\t0.4808473624278175\n",
      "  (2, 6878)\t0.44034387806428416\n",
      "  (2, 1605)\t0.4640368975654969\n",
      "  (2, 7092)\t0.3951631640306381\n",
      "  (3, 4944)\t1.0\n",
      "  (4, 4150)\t0.32645156438660716\n",
      "  (4, 4369)\t0.22978971322349848\n",
      "  (4, 6429)\t0.3382777846315093\n",
      "  (4, 2179)\t0.3172784353084517\n",
      "  (4, 1874)\t0.32645156438660716\n",
      "  (4, 2312)\t0.18946915146620047\n",
      "  (4, 6086)\t0.3172784353084517\n",
      "  (4, 4990)\t0.24795285907173\n",
      "  (4, 1593)\t0.27799865433665266\n",
      "  (4, 3697)\t0.31226581786242585\n",
      "  (4, 5240)\t0.3382777846315093\n",
      "  (4, 7020)\t0.17801162109347568\n",
      "  (5, 6491)\t0.43506510849684216\n",
      "  :\t:\n",
      "  (4129, 5346)\t0.44059536744272915\n",
      "  (4129, 6626)\t0.40660185401455845\n",
      "  (4129, 4003)\t0.37870257463202295\n",
      "  (4130, 3317)\t1.0\n",
      "  (4131, 846)\t0.6184251397568395\n",
      "  (4131, 4024)\t0.352267537771821\n",
      "  (4131, 6460)\t0.363953608168257\n",
      "  (4131, 2821)\t0.47265737512454514\n",
      "  (4131, 6039)\t0.3709322110448134\n",
      "  (4132, 2815)\t0.5546381738009473\n",
      "  (4132, 6606)\t0.403594446533445\n",
      "  (4132, 3151)\t0.7276592738982389\n",
      "  (4133, 4024)\t0.6332779948799099\n",
      "  (4133, 4552)\t0.3946980610958018\n",
      "  (4133, 3932)\t0.29019590921128247\n",
      "  (4133, 6751)\t0.42759795786442323\n",
      "  (4133, 7042)\t0.41966503604101624\n",
      "  (4134, 1481)\t0.4541209787959751\n",
      "  (4134, 5774)\t0.37875230469027\n",
      "  (4134, 7312)\t0.4433933881049106\n",
      "  (4134, 6536)\t0.2733272384462381\n",
      "  (4134, 4387)\t0.31982822447453385\n",
      "  (4134, 7204)\t0.3618254224461281\n",
      "  (4134, 2104)\t0.2551871410598932\n",
      "  (4134, 3267)\t0.2840548291373026\n"
     ]
    }
   ],
   "source": [
    "print(X_train_features)\n"
   ]
  },
  {
   "cell_type": "code",
   "execution_count": 30,
   "id": "3564f3ec",
   "metadata": {},
   "outputs": [
    {
     "name": "stdout",
     "output_type": "stream",
     "text": [
      "  (0, 3846)\t1.0\n",
      "  (1, 3887)\t0.7431435276355369\n",
      "  (1, 3361)\t0.6691320477554562\n",
      "  (3, 7073)\t0.5139088418198577\n",
      "  (3, 5574)\t0.539230915231275\n",
      "  (3, 5271)\t0.5139088418198577\n",
      "  (3, 3033)\t0.2804842078152299\n",
      "  (3, 2302)\t0.3199281697879221\n",
      "  (4, 6932)\t0.19792141887243142\n",
      "  (4, 6764)\t0.23916602784783556\n",
      "  (4, 5444)\t0.23102333749783524\n",
      "  (4, 5161)\t0.21041704111881845\n",
      "  (4, 4948)\t0.23483955606671494\n",
      "  (4, 4625)\t0.2572978084515192\n",
      "  (4, 4423)\t0.2500678660467796\n",
      "  (4, 4348)\t0.23483955606671494\n",
      "  (4, 4300)\t0.1852190947489647\n",
      "  (4, 3943)\t0.19095172211859315\n",
      "  (4, 3159)\t0.19311254995197008\n",
      "  (4, 2855)\t0.13838987939108957\n",
      "  (4, 2005)\t0.2572978084515192\n",
      "  (4, 1545)\t0.20515136127717104\n",
      "  (4, 1525)\t0.23916602784783556\n",
      "  (4, 565)\t0.2797560608363235\n",
      "  (4, 514)\t0.194249523078227\n",
      "  :\t:\n",
      "  (1031, 6331)\t0.24511587863694853\n",
      "  (1031, 5345)\t0.2690823291439455\n",
      "  (1031, 5182)\t0.2815256245617881\n",
      "  (1031, 4163)\t0.3258465613246129\n",
      "  (1031, 3821)\t0.3579978584302646\n",
      "  (1031, 2649)\t0.30703925816826205\n",
      "  (1031, 2477)\t0.3495409610992937\n",
      "  (1031, 1850)\t0.3495409610992937\n",
      "  (1031, 1561)\t0.4004995613612963\n",
      "  (1032, 7206)\t0.16410559142215797\n",
      "  (1032, 6854)\t0.25801634782870153\n",
      "  (1032, 6641)\t0.35321915079334704\n",
      "  (1032, 5936)\t0.17866231426114793\n",
      "  (1032, 5822)\t0.19597360867784874\n",
      "  (1032, 4691)\t0.13058793603001934\n",
      "  (1032, 4561)\t0.2673633949532601\n",
      "  (1032, 3780)\t0.28053731795983367\n",
      "  (1032, 3603)\t0.5347267899065202\n",
      "  (1032, 3333)\t0.15909709834384964\n",
      "  (1032, 2682)\t0.28053731795983367\n",
      "  (1032, 2302)\t0.16644407461988267\n",
      "  (1032, 1124)\t0.24484242482212798\n",
      "  (1032, 1034)\t0.25801634782870153\n",
      "  (1033, 5211)\t0.8414368076857094\n",
      "  (1033, 4261)\t0.5403555298798027\n"
     ]
    }
   ],
   "source": [
    "print(X_test_features)\n"
   ]
  },
  {
   "cell_type": "code",
   "execution_count": 31,
   "id": "19bcddc7",
   "metadata": {},
   "outputs": [
    {
     "name": "stdout",
     "output_type": "stream",
     "text": [
      "4228    0\n",
      "3061    0\n",
      "3345    0\n",
      "3463    0\n",
      "2649    0\n",
      "       ..\n",
      "3534    0\n",
      "1124    0\n",
      "2628    0\n",
      "3833    0\n",
      "2694    0\n",
      "Name: label, Length: 4135, dtype: int32\n"
     ]
    }
   ],
   "source": [
    "print(Y_train)\n"
   ]
  },
  {
   "cell_type": "code",
   "execution_count": 32,
   "id": "7727684e",
   "metadata": {},
   "outputs": [
    {
     "name": "stdout",
     "output_type": "stream",
     "text": [
      "2461    0\n",
      "4673    0\n",
      "4822    0\n",
      "4174    0\n",
      "5058    1\n",
      "       ..\n",
      "2976    0\n",
      "2411    0\n",
      "4691    0\n",
      "5384    0\n",
      "2008    0\n",
      "Name: label, Length: 1034, dtype: int32\n"
     ]
    }
   ],
   "source": [
    "print(Y_test)\n"
   ]
  },
  {
   "cell_type": "markdown",
   "id": "734bdfd0",
   "metadata": {},
   "source": [
    "MODEL TRAINING"
   ]
  },
  {
   "cell_type": "markdown",
   "id": "6bb0572c",
   "metadata": {},
   "source": [
    "LOGISTIC REGRESSION"
   ]
  },
  {
   "cell_type": "code",
   "execution_count": 33,
   "id": "81a04fde",
   "metadata": {},
   "outputs": [
    {
     "name": "stdout",
     "output_type": "stream",
     "text": [
      "Training Accuracy: 0.9620314389359129\n",
      "\n",
      "Testing Accuracy: 0.960348162475822\n"
     ]
    }
   ],
   "source": [
    "model = LogisticRegression()\n",
    "model.fit(X_train_features, Y_train)\n",
    "\n",
    "y_train_pred = model.predict(X_train_features)\n",
    "y_test_pred = model.predict(X_test_features)\n",
    "\n",
    "train_accuracy = accuracy_score(Y_train, y_train_pred)\n",
    "test_accuracy = accuracy_score(Y_test, y_test_pred)\n",
    "\n",
    "print(\"Training Accuracy:\", train_accuracy)\n",
    "print(\"\\nTesting Accuracy:\", test_accuracy)"
   ]
  },
  {
   "cell_type": "markdown",
   "id": "3c9e1cc4",
   "metadata": {},
   "source": [
    "NAIVE BAYES "
   ]
  },
  {
   "cell_type": "code",
   "execution_count": 34,
   "id": "c296c076",
   "metadata": {},
   "outputs": [
    {
     "name": "stdout",
     "output_type": "stream",
     "text": [
      "Training Accuracy: 0.9787182587666263\n",
      "\n",
      "Testing Accuracy: 0.9671179883945842\n"
     ]
    }
   ],
   "source": [
    "from sklearn.naive_bayes import MultinomialNB\n",
    "\n",
    "nb = MultinomialNB()\n",
    "nb.fit(X_train_features, Y_train)\n",
    "\n",
    "y_train_pred = nb.predict(X_train_features)\n",
    "y_test_pred = nb.predict(X_test_features)\n",
    "\n",
    "train_accuracy_nb = accuracy_score(Y_train, y_train_pred)\n",
    "test_accuracy_nb = accuracy_score(Y_test, y_test_pred)\n",
    "\n",
    "print(\"Training Accuracy:\", train_accuracy_nb)\n",
    "print(\"\\nTesting Accuracy:\", test_accuracy_nb)\n"
   ]
  },
  {
   "cell_type": "markdown",
   "id": "a89fc8eb",
   "metadata": {},
   "source": [
    "SUPPORT VECTOR MACHINE"
   ]
  },
  {
   "cell_type": "code",
   "execution_count": 35,
   "id": "58b18303",
   "metadata": {},
   "outputs": [
    {
     "name": "stdout",
     "output_type": "stream",
     "text": [
      "Training Accuracy: 0.9973397823458283\n",
      "\n",
      "Testing Accuracy: 0.9806576402321083\n"
     ]
    }
   ],
   "source": [
    "from sklearn.svm import SVC\n",
    "\n",
    "svm= SVC(kernel='linear')\n",
    "svm.fit(X_train_features, Y_train)\n",
    "\n",
    "y_train_pred = svm.predict(X_train_features)\n",
    "y_test_pred= svm.predict(X_test_features)\n",
    "\n",
    "train_accuracy_svm = accuracy_score(Y_train, y_train_pred)\n",
    "test_accuracy_svm = accuracy_score(Y_test, y_test_pred)\n",
    "\n",
    "print(\"Training Accuracy:\", train_accuracy_svm)\n",
    "print(\"\\nTesting Accuracy:\", test_accuracy_svm)\n"
   ]
  },
  {
   "cell_type": "markdown",
   "id": "ffbd2eef",
   "metadata": {},
   "source": [
    "VISUALIZATION OF VARIOUS MODELS BASED ON ACCURACY"
   ]
  },
  {
   "cell_type": "code",
   "execution_count": 36,
   "id": "8f940a18",
   "metadata": {},
   "outputs": [
    {
     "data": {
      "image/png": "[encoded data removed]",
      "text/plain": [
       "<Figure size 576x432 with 1 Axes>"
      ]
     },
     "metadata": {
      "needs_background": "light"
     },
     "output_type": "display_data"
    }
   ],
   "source": [
    "labels_nb = ['Naive Bayes Train', 'Naive Bayes Test']\n",
    "accuracies_nb = [train_accuracy_nb, test_accuracy_nb]\n",
    "\n",
    "plt.figure(figsize=(8, 6))\n",
    "plt.bar(labels_nb, accuracies_nb, color=['green', 'red'])\n",
    "plt.title('Naive Bayes Accuracy Comparison')\n",
    "plt.ylabel('Accuracy')\n",
    "plt.ylim(0, 1)\n",
    "plt.show()"
   ]
  },
  {
   "cell_type": "code",
   "execution_count": 37,
   "id": "0048b6c6",
   "metadata": {},
   "outputs": [
    {
     "data": {
      "image/png": "[encoded data removed]",
      "text/plain": [
       "<Figure size 576x432 with 1 Axes>"
      ]
     },
     "metadata": {
      "needs_background": "light"
     },
     "output_type": "display_data"
    }
   ],
   "source": [
    "labels = ['Logistic Regression Train', 'Logistic Regression Test']\n",
    "accuracies = [train_accuracy, test_accuracy]\n",
    "\n",
    "plt.figure(figsize=(8, 6))\n",
    "plt.bar(labels, accuracies, color=['blue', 'orange'])\n",
    "plt.title('Logistic Regression Accuracy Comparison')\n",
    "plt.ylabel('Accuracy')\n",
    "plt.ylim(0, 1)\n",
    "plt.show()"
   ]
  },
  {
   "cell_type": "code",
   "execution_count": 38,
   "id": "5d6afc36",
   "metadata": {},
   "outputs": [
    {
     "data": {
      "image/png": "[encoded data removed]",
      "text/plain": [
       "<Figure size 576x432 with 1 Axes>"
      ]
     },
     "metadata": {
      "needs_background": "light"
     },
     "output_type": "display_data"
    }
   ],
   "source": [
    "labels_svm = ['SVM Train', 'SVM Test']\n",
    "accuracies_svm = [train_accuracy_svm, test_accuracy_svm]\n",
    "\n",
    "plt.figure(figsize=(8, 6))\n",
    "plt.bar(labels_svm, accuracies_svm, color=['purple', 'brown'])\n",
    "plt.title('SVM Accuracy Comparison')\n",
    "plt.ylabel('Accuracy')\n",
    "plt.ylim(0, 1)\n",
    "plt.show()"
   ]
  },
  {
   "cell_type": "markdown",
   "id": "b5817b3f",
   "metadata": {},
   "source": [
    "PREDICTION USING LOGISTIC REGRESSION"
   ]
  },
  {
   "cell_type": "code",
   "execution_count": 60,
   "id": "aedd393a",
   "metadata": {},
   "outputs": [
    {
     "name": "stdout",
     "output_type": "stream",
     "text": [
      "Enter the SMS: You have won a guaranteed 32000 award or maybe even å£1000 cash to claim ur award call free on 0800 ..... (18+). Its a legitimat efreefone number wat do u think???\n",
      "Spam\n"
     ]
    }
   ],
   "source": [
    "user_input_mail = input(\"Enter the SMS: \")\n",
    "input_mail = [user_input_mail]\n",
    "input_data_features = vectorizer.transform(input_mail)\n",
    "prediction = model.predict(input_data_features)\n",
    "if prediction[0] == 0:\n",
    "    print('Legitimate')\n",
    "else:\n",
    "    print('Spam')\n",
    "\n"
   ]
  },
  {
   "cell_type": "markdown",
   "id": "2c6a01af",
   "metadata": {},
   "source": [
    "PREDICTION USING NAIVE BAYES"
   ]
  },
  {
   "cell_type": "code",
   "execution_count": 61,
   "id": "14cac91b",
   "metadata": {},
   "outputs": [
    {
     "name": "stdout",
     "output_type": "stream",
     "text": [
      "Enter the SMS: You have won a guaranteed 32000 award or maybe even å£1000 cash to claim ur award call free on 0800 ..... (18+). Its a legitimat efreefone number wat do u think???\n",
      "Spam\n"
     ]
    }
   ],
   "source": [
    "user_input_mail = input(\"Enter the SMS: \")\n",
    "input_mail = [user_input_mail]\n",
    "input_data_features = vectorizer.transform(input_mail)\n",
    "prediction = nb.predict(input_data_features)\n",
    "if prediction[0] == 0:\n",
    "    print('Legitimate')\n",
    "else:\n",
    "    print('Spam')\n",
    "\n"
   ]
  },
  {
   "cell_type": "markdown",
   "id": "3eaa9c65",
   "metadata": {},
   "source": [
    "PREDICTION USING SUPPORT VECTOR MACHINE"
   ]
  },
  {
   "cell_type": "code",
   "execution_count": 62,
   "id": "8697eb09",
   "metadata": {},
   "outputs": [
    {
     "name": "stdout",
     "output_type": "stream",
     "text": [
      "Enter the SMS: You have won a guaranteed 32000 award or maybe even å£1000 cash to claim ur award call free on 0800 ..... (18+). Its a legitimat efreefone number wat do u think???\n",
      "Spam\n"
     ]
    }
   ],
   "source": [
    "user_input_mail = input(\"Enter the SMS: \")\n",
    "input_mail = [user_input_mail]\n",
    "input_data_features = vectorizer.transform(input_mail)\n",
    "prediction = svm.predict(input_data_features)\n",
    "if prediction[0] == 0:\n",
    "    print('Legitimate')\n",
    "else:\n",
    "    print('Spam')\n",
    "\n"
   ]
  },
  {
   "cell_type": "code",
   "execution_count": null,
   "id": "266745e4",
   "metadata": {},
   "outputs": [],
   "source": []
  }
 ],
 "metadata": {
  "kernelspec": {
   "display_name": "Python 3 (ipykernel)",
   "language": "python",
   "name": "python3"
  },
  "language_info": {
   "codemirror_mode": {
    "name": "ipython",
    "version": 3
   },
   "file_extension": ".py",
   "mimetype": "text/x-python",
   "name": "python",
   "nbconvert_exporter": "python",
   "pygments_lexer": "ipython3",
   "version": "3.9.7"
  }
 },
 "nbformat": 4,
 "nbformat_minor": 5
}
